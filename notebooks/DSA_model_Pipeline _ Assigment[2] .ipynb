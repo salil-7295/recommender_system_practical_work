{
 "cells": [
  {
   "cell_type": "markdown",
   "metadata": {},
   "source": [
    "## Modular PipeLine Assignment \n",
    "##### 04 feb , 2021 \n",
    "\n",
    "#### Extracting funtions and directy using in this notebook "
   ]
  },
  {
   "cell_type": "code",
   "execution_count": 1,
   "metadata": {},
   "outputs": [
    {
     "name": "stdout",
     "output_type": "stream",
     "text": [
      "Requirement already satisfied: scikit-surprise in /Users/salilmarathponmadom/opt/anaconda3/lib/python3.8/site-packages (1.1.1)\n",
      "Requirement already satisfied: numpy>=1.11.2 in /Users/salilmarathponmadom/opt/anaconda3/lib/python3.8/site-packages (from scikit-surprise) (1.18.5)\n",
      "Requirement already satisfied: scipy>=1.0.0 in /Users/salilmarathponmadom/opt/anaconda3/lib/python3.8/site-packages (from scikit-surprise) (1.5.0)\n",
      "Requirement already satisfied: six>=1.10.0 in /Users/salilmarathponmadom/opt/anaconda3/lib/python3.8/site-packages (from scikit-surprise) (1.15.0)\n",
      "Requirement already satisfied: joblib>=0.11 in /Users/salilmarathponmadom/opt/anaconda3/lib/python3.8/site-packages (from scikit-surprise) (0.16.0)\n",
      "Note: you may need to restart the kernel to use updated packages.\n"
     ]
    }
   ],
   "source": [
    "pip install scikit-surprise"
   ]
  },
  {
   "cell_type": "code",
   "execution_count": 2,
   "metadata": {},
   "outputs": [],
   "source": [
    "from pipeline_BM import *"
   ]
  },
  {
   "cell_type": "code",
   "execution_count": 8,
   "metadata": {},
   "outputs": [
    {
     "data": {
      "text/plain": [
       "<surprise.dataset.DatasetAutoFolds at 0x7fc33d81ce80>"
      ]
     },
     "execution_count": 8,
     "metadata": {},
     "output_type": "execute_result"
    }
   ],
   "source": [
    "data = load_ratings_from_file()\n",
    "data"
   ]
  },
  {
   "cell_type": "code",
   "execution_count": 5,
   "metadata": {},
   "outputs": [],
   "source": [
    "from surprise.model_selection import train_test_split\n",
    "\n",
    "train, test = train_test_split(data, test_size=0.2, random_state=42)"
   ]
  },
  {
   "cell_type": "markdown",
   "metadata": {},
   "source": [
    "### KNNBasic"
   ]
  },
  {
   "cell_type": "code",
   "execution_count": 6,
   "metadata": {},
   "outputs": [
    {
     "name": "stdout",
     "output_type": "stream",
     "text": [
      "Computing the pearson similarity matrix...\n",
      "Done computing similarity matrix.\n"
     ]
    }
   ],
   "source": [
    "from surprise.prediction_algorithms.knns import KNNBasic\n",
    "\n",
    "#model_kwargs = {'sim_options': {'user_based': False, 'name': 'pearson'}}\n",
    "model = get_trained_model(KNNBasic, {'user_based': False, 'name': 'pearson'}, train)"
   ]
  },
  {
   "cell_type": "code",
   "execution_count": null,
   "metadata": {},
   "outputs": [],
   "source": [
    "#predictions = model.test(test)\n",
    "#predictions[:10]"
   ]
  },
  {
   "cell_type": "markdown",
   "metadata": {},
   "source": [
    "### SVD Model "
   ]
  },
  {
   "cell_type": "code",
   "execution_count": 9,
   "metadata": {},
   "outputs": [],
   "source": [
    "from surprise.prediction_algorithms.matrix_factorization import SVD\n",
    "#my_model, metrics_dict = train_and_evalute_model_pipeline(SVD)\n",
    "model = get_trained_model_svd(SVD,train)"
   ]
  },
  {
   "cell_type": "code",
   "execution_count": 11,
   "metadata": {},
   "outputs": [
    {
     "data": {
      "text/plain": [
       "{'RMSE': 0.8802269893429514, 'MAE': 0.8802269893429514}"
      ]
     },
     "execution_count": 11,
     "metadata": {},
     "output_type": "execute_result"
    }
   ],
   "source": [
    "svd_metrics = evaluate_model(model, test)\n",
    "svd_metrics"
   ]
  },
  {
   "cell_type": "code",
   "execution_count": null,
   "metadata": {},
   "outputs": [],
   "source": [
    "predictions = model.test(test)\n",
    "predictions[:10]"
   ]
  },
  {
   "cell_type": "markdown",
   "metadata": {},
   "source": [
    "### SVDpp"
   ]
  },
  {
   "cell_type": "code",
   "execution_count": null,
   "metadata": {},
   "outputs": [],
   "source": [
    "from surprise.prediction_algorithms.matrix_factorization import SVDpp\n",
    "#my_model, metrics_dict = train_and_evalute_model_pipeline(SVD)\n",
    "model = get_trained_model_svdpp(SVDpp,train)"
   ]
  },
  {
   "cell_type": "code",
   "execution_count": null,
   "metadata": {},
   "outputs": [],
   "source": [
    "evaluate_model(model, test)"
   ]
  },
  {
   "cell_type": "code",
   "execution_count": null,
   "metadata": {},
   "outputs": [],
   "source": [
    "predictions = model.test(test)\n",
    "predictions[:10]"
   ]
  },
  {
   "cell_type": "markdown",
   "metadata": {},
   "source": [
    "### NMF Model "
   ]
  },
  {
   "cell_type": "code",
   "execution_count": 13,
   "metadata": {},
   "outputs": [
    {
     "data": {
      "text/plain": [
       "{'RMSE': 0.9291497064743874, 'MAE': 0.9291497064743874}"
      ]
     },
     "execution_count": 13,
     "metadata": {},
     "output_type": "execute_result"
    }
   ],
   "source": [
    "from surprise.prediction_algorithms.matrix_factorization import NMF\n",
    "#my_model, metrics_dict = train_and_evalute_model_pipeline(SVD)\n",
    "model = get_trained_model_nmf(NMF,train)\n",
    "svd_metrics = evaluate_model(model, test)\n",
    "svd_metrics"
   ]
  },
  {
   "cell_type": "code",
   "execution_count": null,
   "metadata": {},
   "outputs": [],
   "source": [
    "predictions = model.test(test)\n",
    "predictions[:10]"
   ]
  },
  {
   "cell_type": "code",
   "execution_count": null,
   "metadata": {},
   "outputs": [],
   "source": []
  },
  {
   "cell_type": "markdown",
   "metadata": {},
   "source": [
    "## BenchMarking "
   ]
  },
  {
   "cell_type": "markdown",
   "metadata": {},
   "source": [
    "#### KNN Model "
   ]
  },
  {
   "cell_type": "code",
   "execution_count": 14,
   "metadata": {},
   "outputs": [
    {
     "name": "stdout",
     "output_type": "stream",
     "text": [
      "KNNBasic\n",
      "Computing the cosine similarity matrix...\n",
      "Done computing similarity matrix.\n",
      "KNNBasic\n",
      "Computing the pearson similarity matrix...\n",
      "Done computing similarity matrix.\n",
      "KNNBasic\n",
      "Computing the cosine similarity matrix...\n",
      "Done computing similarity matrix.\n",
      "KNNBasic\n",
      "Computing the pearson similarity matrix...\n",
      "Done computing similarity matrix.\n"
     ]
    },
    {
     "data": {
      "text/plain": [
       "{'KNN user based cosine': {'RMSE': 0.9805664487082234,\n",
       "  'MAE': 0.9805664487082234},\n",
       " 'KNN user based pearson': {'RMSE': 0.9817298825342252,\n",
       "  'MAE': 0.9817298825342252},\n",
       " 'KNN item based cosine': {'RMSE': 0.9799629843055228,\n",
       "  'MAE': 0.9799629843055228},\n",
       " 'KNN item based pearson': {'RMSE': 0.972090216587812,\n",
       "  'MAE': 0.972090216587812}}"
      ]
     },
     "execution_count": 14,
     "metadata": {},
     "output_type": "execute_result"
    }
   ],
   "source": [
    "from surprise.prediction_algorithms.knns import KNNBasic\n",
    "\n",
    "benchmark_dict = {}\n",
    "\n",
    "model_kwargs = {'user_based': True, 'name': 'cosine'}\n",
    "knn, metrics_dict = train_and_evalute_model_pipeline(KNNBasic, model_kwargs)\n",
    "benchmark_dict['KNN user based cosine'] = metrics_dict\n",
    "\n",
    "model_kwargs = {'user_based': True, 'name': 'pearson'}\n",
    "knn, metrics_dict = train_and_evalute_model_pipeline(KNNBasic, model_kwargs)\n",
    "benchmark_dict['KNN user based pearson'] = metrics_dict\n",
    "\n",
    "model_kwargs = {'user_based': False, 'name': 'cosine'}\n",
    "knn, metrics_dict = train_and_evalute_model_pipeline(KNNBasic, model_kwargs)\n",
    "benchmark_dict['KNN item based cosine'] = metrics_dict\n",
    "model_kwargs = {'user_based': False, 'name': 'pearson'}\n",
    "knn, metrics_dict = train_and_evalute_model_pipeline(KNNBasic, model_kwargs)\n",
    "benchmark_dict['KNN item based pearson'] = metrics_dict\n",
    "\n",
    "\n",
    "benchmark_dict"
   ]
  },
  {
   "cell_type": "markdown",
   "metadata": {},
   "source": [
    "#### SVD "
   ]
  },
  {
   "cell_type": "code",
   "execution_count": 15,
   "metadata": {},
   "outputs": [
    {
     "name": "stdout",
     "output_type": "stream",
     "text": [
      "SVD\n"
     ]
    }
   ],
   "source": [
    "from surprise.prediction_algorithms.matrix_factorization import SVD\n",
    "knn, metrics_dict = train_and_evalute_model_pipeline(SVD)\n",
    "benchmark_dict['SVD'] = metrics_dict"
   ]
  },
  {
   "cell_type": "markdown",
   "metadata": {},
   "source": [
    "#### SVDpp"
   ]
  },
  {
   "cell_type": "code",
   "execution_count": null,
   "metadata": {},
   "outputs": [],
   "source": [
    "from surprise.prediction_algorithms.matrix_factorization import SVDpp\n",
    "\n",
    "knn, metrics_dict = train_and_evalute_model_pipeline(SVDpp)\n",
    "benchmark_dict['SVDpp'] = metrics_dict\n"
   ]
  },
  {
   "cell_type": "markdown",
   "metadata": {},
   "source": [
    "#### NMF"
   ]
  },
  {
   "cell_type": "code",
   "execution_count": 16,
   "metadata": {},
   "outputs": [
    {
     "name": "stdout",
     "output_type": "stream",
     "text": [
      "NMF\n"
     ]
    }
   ],
   "source": [
    "from surprise.prediction_algorithms.matrix_factorization import NMF\n",
    "\n",
    "knn, metrics_dict = train_and_evalute_model_pipeline(NMF)\n",
    "benchmark_dict['NMF'] = metrics_dict\n"
   ]
  },
  {
   "cell_type": "code",
   "execution_count": 17,
   "metadata": {},
   "outputs": [
    {
     "data": {
      "text/plain": [
       "{'KNN user based cosine': {'RMSE': 0.9805664487082234,\n",
       "  'MAE': 0.9805664487082234},\n",
       " 'KNN user based pearson': {'RMSE': 0.9817298825342252,\n",
       "  'MAE': 0.9817298825342252},\n",
       " 'KNN item based cosine': {'RMSE': 0.9799629843055228,\n",
       "  'MAE': 0.9799629843055228},\n",
       " 'KNN item based pearson': {'RMSE': 0.972090216587812,\n",
       "  'MAE': 0.972090216587812},\n",
       " 'SVD': {'RMSE': 0.8788418220423644, 'MAE': 0.8788418220423644},\n",
       " 'NMF': {'RMSE': 0.9268777184440314, 'MAE': 0.9268777184440314}}"
      ]
     },
     "execution_count": 17,
     "metadata": {},
     "output_type": "execute_result"
    }
   ],
   "source": [
    "benchmark_dict"
   ]
  },
  {
   "cell_type": "code",
   "execution_count": 18,
   "metadata": {},
   "outputs": [
    {
     "data": {
      "text/html": [
       "<div>\n",
       "<style scoped>\n",
       "    .dataframe tbody tr th:only-of-type {\n",
       "        vertical-align: middle;\n",
       "    }\n",
       "\n",
       "    .dataframe tbody tr th {\n",
       "        vertical-align: top;\n",
       "    }\n",
       "\n",
       "    .dataframe thead th {\n",
       "        text-align: right;\n",
       "    }\n",
       "</style>\n",
       "<table border=\"1\" class=\"dataframe\">\n",
       "  <thead>\n",
       "    <tr style=\"text-align: right;\">\n",
       "      <th></th>\n",
       "      <th>KNN user based cosine</th>\n",
       "      <th>KNN user based pearson</th>\n",
       "      <th>KNN item based cosine</th>\n",
       "      <th>KNN item based pearson</th>\n",
       "      <th>SVD</th>\n",
       "      <th>NMF</th>\n",
       "    </tr>\n",
       "  </thead>\n",
       "  <tbody>\n",
       "    <tr>\n",
       "      <th>0</th>\n",
       "      <td>{'RMSE': 0.9805664487082234, 'MAE': 0.98056644...</td>\n",
       "      <td>{'RMSE': 0.9817298825342252, 'MAE': 0.98172988...</td>\n",
       "      <td>{'RMSE': 0.9799629843055228, 'MAE': 0.97996298...</td>\n",
       "      <td>{'RMSE': 0.972090216587812, 'MAE': 0.972090216...</td>\n",
       "      <td>{'RMSE': 0.8788418220423644, 'MAE': 0.87884182...</td>\n",
       "      <td>{'RMSE': 0.9268777184440314, 'MAE': 0.92687771...</td>\n",
       "    </tr>\n",
       "  </tbody>\n",
       "</table>\n",
       "</div>"
      ],
      "text/plain": [
       "                               KNN user based cosine  \\\n",
       "0  {'RMSE': 0.9805664487082234, 'MAE': 0.98056644...   \n",
       "\n",
       "                              KNN user based pearson  \\\n",
       "0  {'RMSE': 0.9817298825342252, 'MAE': 0.98172988...   \n",
       "\n",
       "                               KNN item based cosine  \\\n",
       "0  {'RMSE': 0.9799629843055228, 'MAE': 0.97996298...   \n",
       "\n",
       "                              KNN item based pearson  \\\n",
       "0  {'RMSE': 0.972090216587812, 'MAE': 0.972090216...   \n",
       "\n",
       "                                                 SVD  \\\n",
       "0  {'RMSE': 0.8788418220423644, 'MAE': 0.87884182...   \n",
       "\n",
       "                                                 NMF  \n",
       "0  {'RMSE': 0.9268777184440314, 'MAE': 0.92687771...  "
      ]
     },
     "execution_count": 18,
     "metadata": {},
     "output_type": "execute_result"
    }
   ],
   "source": [
    "import pandas as pd \n",
    "pd.DataFrame([benchmark_dict])"
   ]
  },
  {
   "cell_type": "code",
   "execution_count": 19,
   "metadata": {},
   "outputs": [
    {
     "data": {
      "text/plain": [
       "dict_values([{'RMSE': 0.9805664487082234, 'MAE': 0.9805664487082234}, {'RMSE': 0.9817298825342252, 'MAE': 0.9817298825342252}, {'RMSE': 0.9799629843055228, 'MAE': 0.9799629843055228}, {'RMSE': 0.972090216587812, 'MAE': 0.972090216587812}, {'RMSE': 0.8788418220423644, 'MAE': 0.8788418220423644}, {'RMSE': 0.9268777184440314, 'MAE': 0.9268777184440314}])"
      ]
     },
     "execution_count": 19,
     "metadata": {},
     "output_type": "execute_result"
    }
   ],
   "source": [
    "keys = benchmark_dict.values()\n",
    "keys"
   ]
  },
  {
   "cell_type": "code",
   "execution_count": 20,
   "metadata": {},
   "outputs": [
    {
     "name": "stdout",
     "output_type": "stream",
     "text": [
      "Requirement already satisfied: tabulate in /Users/salilmarathponmadom/opt/anaconda3/lib/python3.8/site-packages (0.8.8)\r\n"
     ]
    }
   ],
   "source": [
    "!pip install tabulate "
   ]
  },
  {
   "cell_type": "code",
   "execution_count": 21,
   "metadata": {},
   "outputs": [],
   "source": [
    "from tabulate import tabulate"
   ]
  },
  {
   "cell_type": "code",
   "execution_count": 22,
   "metadata": {},
   "outputs": [
    {
     "data": {
      "text/html": [
       "<div>\n",
       "<style scoped>\n",
       "    .dataframe tbody tr th:only-of-type {\n",
       "        vertical-align: middle;\n",
       "    }\n",
       "\n",
       "    .dataframe tbody tr th {\n",
       "        vertical-align: top;\n",
       "    }\n",
       "\n",
       "    .dataframe thead th {\n",
       "        text-align: right;\n",
       "    }\n",
       "</style>\n",
       "<table border=\"1\" class=\"dataframe\">\n",
       "  <thead>\n",
       "    <tr style=\"text-align: right;\">\n",
       "      <th></th>\n",
       "      <th>ModelName</th>\n",
       "      <th>RMSE</th>\n",
       "      <th>MAE</th>\n",
       "    </tr>\n",
       "  </thead>\n",
       "  <tbody>\n",
       "    <tr>\n",
       "      <th>0</th>\n",
       "      <td>KNN user based cosine</td>\n",
       "      <td>0.980566</td>\n",
       "      <td>0.980566</td>\n",
       "    </tr>\n",
       "    <tr>\n",
       "      <th>1</th>\n",
       "      <td>KNN user based pearson</td>\n",
       "      <td>0.981730</td>\n",
       "      <td>0.981730</td>\n",
       "    </tr>\n",
       "    <tr>\n",
       "      <th>2</th>\n",
       "      <td>KNN item based cosine</td>\n",
       "      <td>0.979963</td>\n",
       "      <td>0.979963</td>\n",
       "    </tr>\n",
       "    <tr>\n",
       "      <th>3</th>\n",
       "      <td>KNN item based pearson</td>\n",
       "      <td>0.972090</td>\n",
       "      <td>0.972090</td>\n",
       "    </tr>\n",
       "    <tr>\n",
       "      <th>4</th>\n",
       "      <td>SVD</td>\n",
       "      <td>0.878842</td>\n",
       "      <td>0.878842</td>\n",
       "    </tr>\n",
       "    <tr>\n",
       "      <th>5</th>\n",
       "      <td>NMF</td>\n",
       "      <td>0.926878</td>\n",
       "      <td>0.926878</td>\n",
       "    </tr>\n",
       "  </tbody>\n",
       "</table>\n",
       "</div>"
      ],
      "text/plain": [
       "                ModelName      RMSE       MAE\n",
       "0   KNN user based cosine  0.980566  0.980566\n",
       "1  KNN user based pearson  0.981730  0.981730\n",
       "2   KNN item based cosine  0.979963  0.979963\n",
       "3  KNN item based pearson  0.972090  0.972090\n",
       "4                     SVD  0.878842  0.878842\n",
       "5                     NMF  0.926878  0.926878"
      ]
     },
     "execution_count": 22,
     "metadata": {},
     "output_type": "execute_result"
    }
   ],
   "source": [
    "table = []\n",
    "for key in benchmark_dict.keys():\n",
    "    item = benchmark_dict[key]\n",
    "    new_line = [key,item['RMSE'],item['MAE']]\n",
    "    tabulate([new_line], tablefmt=\"pipe\")\n",
    "    table.append(new_line)\n",
    "header = ['ModelName','RMSE','MAE']\n",
    "df = pd.DataFrame(table)\n",
    "df.columns = header\n",
    "df"
   ]
  },
  {
   "cell_type": "code",
   "execution_count": null,
   "metadata": {},
   "outputs": [],
   "source": []
  }
 ],
 "metadata": {
  "kernelspec": {
   "display_name": "Python 3",
   "language": "python",
   "name": "python3"
  },
  "language_info": {
   "codemirror_mode": {
    "name": "ipython",
    "version": 3
   },
   "file_extension": ".py",
   "mimetype": "text/x-python",
   "name": "python",
   "nbconvert_exporter": "python",
   "pygments_lexer": "ipython3",
   "version": "3.8.3"
  }
 },
 "nbformat": 4,
 "nbformat_minor": 4
}

{
 "cells": [
  {
   "cell_type": "markdown",
   "metadata": {},
   "source": [
    "## Modular PipeLine Assignment \n",
    "##### 04 feb , 2021 \n",
    "\n",
    "#### Extracting funtions and directy using in this notebook "
   ]
  },
  {
   "cell_type": "code",
   "execution_count": null,
   "metadata": {},
   "outputs": [],
   "source": []
  },
  {
   "cell_type": "code",
   "execution_count": null,
   "metadata": {},
   "outputs": [],
   "source": []
  },
  {
   "cell_type": "code",
   "execution_count": null,
   "metadata": {},
   "outputs": [],
   "source": []
  },
  {
   "cell_type": "code",
   "execution_count": 1,
   "metadata": {},
   "outputs": [
    {
     "name": "stdout",
     "output_type": "stream",
     "text": [
      "Requirement already satisfied: scikit-surprise in /Users/salilmarathponmadom/opt/anaconda3/lib/python3.8/site-packages (1.1.1)\n",
      "Requirement already satisfied: scipy>=1.0.0 in /Users/salilmarathponmadom/opt/anaconda3/lib/python3.8/site-packages (from scikit-surprise) (1.5.0)\n",
      "Requirement already satisfied: numpy>=1.11.2 in /Users/salilmarathponmadom/opt/anaconda3/lib/python3.8/site-packages (from scikit-surprise) (1.18.5)\n",
      "Requirement already satisfied: joblib>=0.11 in /Users/salilmarathponmadom/opt/anaconda3/lib/python3.8/site-packages (from scikit-surprise) (0.16.0)\n",
      "Requirement already satisfied: six>=1.10.0 in /Users/salilmarathponmadom/opt/anaconda3/lib/python3.8/site-packages (from scikit-surprise) (1.15.0)\n",
      "Note: you may need to restart the kernel to use updated packages.\n"
     ]
    }
   ],
   "source": [
    "pip install scikit-surprise"
   ]
  },
  {
   "cell_type": "code",
   "execution_count": 21,
   "metadata": {},
   "outputs": [],
   "source": [
    "from pipeline_BM import *"
   ]
  },
  {
   "cell_type": "code",
   "execution_count": 22,
   "metadata": {},
   "outputs": [
    {
     "data": {
      "text/plain": [
       "<surprise.dataset.DatasetAutoFolds at 0x7fc25c3b3250>"
      ]
     },
     "execution_count": 22,
     "metadata": {},
     "output_type": "execute_result"
    }
   ],
   "source": [
    "ratings_filepath = Path('/Users/salilmarathponmadom/Desktop/EPITA /Rec_Sys/Movie_Lens_Surprise/ml-latest-small/ratings.csv')\n",
    "data = load_ratings_from_file(ratings_filepath)\n",
    "data"
   ]
  },
  {
   "cell_type": "code",
   "execution_count": 23,
   "metadata": {},
   "outputs": [],
   "source": [
    "from surprise.model_selection import train_test_split\n",
    "\n",
    "train, test = train_test_split(data, test_size=0.2, random_state=42)"
   ]
  },
  {
   "cell_type": "markdown",
   "metadata": {},
   "source": [
    "### KNNBasic"
   ]
  },
  {
   "cell_type": "code",
   "execution_count": 24,
   "metadata": {},
   "outputs": [
    {
     "name": "stdout",
     "output_type": "stream",
     "text": [
      "Computing the pearson similarity matrix...\n",
      "Done computing similarity matrix.\n"
     ]
    }
   ],
   "source": [
    "from surprise.prediction_algorithms.knns import KNNBasic\n",
    "\n",
    "#model_kwargs = {'sim_options': {'user_based': False, 'name': 'pearson'}}\n",
    "model = get_trained_model(KNNBasic, {'user_based': False, 'name': 'pearson'}, train)"
   ]
  },
  {
   "cell_type": "code",
   "execution_count": 25,
   "metadata": {},
   "outputs": [
    {
     "data": {
      "text/plain": [
       "[Prediction(uid='140', iid='6765', r_ui=3.5, est=3.324319171398978, details={'actual_k': 40, 'was_impossible': False}),\n",
       " Prediction(uid='603', iid='290', r_ui=4.0, est=3.954804739122461, details={'actual_k': 40, 'was_impossible': False}),\n",
       " Prediction(uid='438', iid='5055', r_ui=4.0, est=3.474735155311256, details={'actual_k': 40, 'was_impossible': False}),\n",
       " Prediction(uid='433', iid='164179', r_ui=5.0, est=3.5670241490843337, details={'actual_k': 12, 'was_impossible': False}),\n",
       " Prediction(uid='474', iid='5114', r_ui=4.0, est=3.503229285466356, details={'was_impossible': True, 'reason': 'User and/or item is unknown.'}),\n",
       " Prediction(uid='304', iid='1035', r_ui=4.0, est=3.953931802942877, details={'actual_k': 40, 'was_impossible': False}),\n",
       " Prediction(uid='298', iid='4974', r_ui=1.0, est=2.9125, details={'actual_k': 40, 'was_impossible': False}),\n",
       " Prediction(uid='131', iid='293', r_ui=4.0, est=3.421865800764329, details={'actual_k': 40, 'was_impossible': False}),\n",
       " Prediction(uid='288', iid='5784', r_ui=2.5, est=3.1375, details={'actual_k': 40, 'was_impossible': False}),\n",
       " Prediction(uid='448', iid='97225', r_ui=2.5, est=2.6875, details={'actual_k': 40, 'was_impossible': False})]"
      ]
     },
     "execution_count": 25,
     "metadata": {},
     "output_type": "execute_result"
    }
   ],
   "source": [
    "predictions = model.test(test)\n",
    "predictions[:10]"
   ]
  },
  {
   "cell_type": "markdown",
   "metadata": {},
   "source": [
    "### SVD Model "
   ]
  },
  {
   "cell_type": "code",
   "execution_count": 26,
   "metadata": {},
   "outputs": [],
   "source": [
    "from surprise.prediction_algorithms.matrix_factorization import SVD\n",
    "#my_model, metrics_dict = train_and_evalute_model_pipeline(SVD)\n",
    "model = get_trained_model_svd(SVD,train)"
   ]
  },
  {
   "cell_type": "code",
   "execution_count": 27,
   "metadata": {},
   "outputs": [
    {
     "data": {
      "text/plain": [
       "[Prediction(uid='140', iid='6765', r_ui=3.5, est=3.39872995629153, details={'was_impossible': False}),\n",
       " Prediction(uid='603', iid='290', r_ui=4.0, est=3.713495975412447, details={'was_impossible': False}),\n",
       " Prediction(uid='438', iid='5055', r_ui=4.0, est=2.992600346115299, details={'was_impossible': False}),\n",
       " Prediction(uid='433', iid='164179', r_ui=5.0, est=3.5412009346380446, details={'was_impossible': False}),\n",
       " Prediction(uid='474', iid='5114', r_ui=4.0, est=3.311001522736727, details={'was_impossible': False}),\n",
       " Prediction(uid='304', iid='1035', r_ui=4.0, est=4.255769284686628, details={'was_impossible': False}),\n",
       " Prediction(uid='298', iid='4974', r_ui=1.0, est=2.434447366824173, details={'was_impossible': False}),\n",
       " Prediction(uid='131', iid='293', r_ui=4.0, est=3.534062791761739, details={'was_impossible': False}),\n",
       " Prediction(uid='288', iid='5784', r_ui=2.5, est=2.7950149670645406, details={'was_impossible': False}),\n",
       " Prediction(uid='448', iid='97225', r_ui=2.5, est=2.726543293764658, details={'was_impossible': False})]"
      ]
     },
     "execution_count": 27,
     "metadata": {},
     "output_type": "execute_result"
    }
   ],
   "source": [
    "predictions = model.test(test)\n",
    "predictions[:10]"
   ]
  },
  {
   "cell_type": "markdown",
   "metadata": {},
   "source": [
    "### SVDpp"
   ]
  },
  {
   "cell_type": "code",
   "execution_count": 39,
   "metadata": {},
   "outputs": [],
   "source": [
    "from surprise.prediction_algorithms.matrix_factorization import SVDpp\n",
    "#my_model, metrics_dict = train_and_evalute_model_pipeline(SVD)\n",
    "model = get_trained_model_svdpp(SVDpp,train)"
   ]
  },
  {
   "cell_type": "code",
   "execution_count": 40,
   "metadata": {},
   "outputs": [
    {
     "data": {
      "text/plain": [
       "[Prediction(uid='140', iid='6765', r_ui=3.5, est=3.180722795568677, details={'was_impossible': False}),\n",
       " Prediction(uid='603', iid='290', r_ui=4.0, est=3.993374051670438, details={'was_impossible': False}),\n",
       " Prediction(uid='438', iid='5055', r_ui=4.0, est=2.9775373123102655, details={'was_impossible': False}),\n",
       " Prediction(uid='433', iid='164179', r_ui=5.0, est=3.5672488098048025, details={'was_impossible': False}),\n",
       " Prediction(uid='474', iid='5114', r_ui=4.0, est=3.2273546170127223, details={'was_impossible': False}),\n",
       " Prediction(uid='304', iid='1035', r_ui=4.0, est=4.619216247690179, details={'was_impossible': False}),\n",
       " Prediction(uid='298', iid='4974', r_ui=1.0, est=2.1609738842017836, details={'was_impossible': False}),\n",
       " Prediction(uid='131', iid='293', r_ui=4.0, est=3.4590419900935845, details={'was_impossible': False}),\n",
       " Prediction(uid='288', iid='5784', r_ui=2.5, est=2.4329449969549577, details={'was_impossible': False}),\n",
       " Prediction(uid='448', iid='97225', r_ui=2.5, est=3.179771326732358, details={'was_impossible': False})]"
      ]
     },
     "execution_count": 40,
     "metadata": {},
     "output_type": "execute_result"
    }
   ],
   "source": [
    "predictions = model.test(test)\n",
    "predictions[:10]"
   ]
  },
  {
   "cell_type": "markdown",
   "metadata": {},
   "source": [
    "### NMF Model "
   ]
  },
  {
   "cell_type": "code",
   "execution_count": 31,
   "metadata": {},
   "outputs": [],
   "source": [
    "from surprise.prediction_algorithms.matrix_factorization import NMF\n",
    "#my_model, metrics_dict = train_and_evalute_model_pipeline(SVD)\n",
    "model = get_trained_model_nmf(NMF,train)"
   ]
  },
  {
   "cell_type": "code",
   "execution_count": 32,
   "metadata": {},
   "outputs": [
    {
     "data": {
      "text/plain": [
       "[Prediction(uid='140', iid='6765', r_ui=3.5, est=3.6357743181014994, details={'was_impossible': False}),\n",
       " Prediction(uid='603', iid='290', r_ui=4.0, est=4.0013048345850555, details={'was_impossible': False}),\n",
       " Prediction(uid='438', iid='5055', r_ui=4.0, est=3.0254304859113867, details={'was_impossible': False}),\n",
       " Prediction(uid='433', iid='164179', r_ui=5.0, est=2.9295640828778957, details={'was_impossible': False}),\n",
       " Prediction(uid='474', iid='5114', r_ui=4.0, est=3.503229285466356, details={'was_impossible': True, 'reason': 'User and item are unknown.'}),\n",
       " Prediction(uid='304', iid='1035', r_ui=4.0, est=4.291565106720835, details={'was_impossible': False}),\n",
       " Prediction(uid='298', iid='4974', r_ui=1.0, est=2.096741001680613, details={'was_impossible': False}),\n",
       " Prediction(uid='131', iid='293', r_ui=4.0, est=3.3749805783470643, details={'was_impossible': False}),\n",
       " Prediction(uid='288', iid='5784', r_ui=2.5, est=2.390582102083657, details={'was_impossible': False}),\n",
       " Prediction(uid='448', iid='97225', r_ui=2.5, est=3.238816939418636, details={'was_impossible': False})]"
      ]
     },
     "execution_count": 32,
     "metadata": {},
     "output_type": "execute_result"
    }
   ],
   "source": [
    "predictions = model.test(test)\n",
    "predictions[:10]"
   ]
  },
  {
   "cell_type": "markdown",
   "metadata": {},
   "source": [
    "## BenchMarking "
   ]
  },
  {
   "cell_type": "markdown",
   "metadata": {},
   "source": [
    "#### KNN Model "
   ]
  },
  {
   "cell_type": "code",
   "execution_count": 42,
   "metadata": {},
   "outputs": [
    {
     "ename": "TypeError",
     "evalue": "load_ratings_from_file() missing 1 required positional argument: 'ratings_filepath'",
     "output_type": "error",
     "traceback": [
      "\u001b[0;31m---------------------------------------------------------------------------\u001b[0m",
      "\u001b[0;31mTypeError\u001b[0m                                 Traceback (most recent call last)",
      "\u001b[0;32m<ipython-input-42-03049e25d428>\u001b[0m in \u001b[0;36m<module>\u001b[0;34m\u001b[0m\n\u001b[1;32m      4\u001b[0m \u001b[0;34m\u001b[0m\u001b[0m\n\u001b[1;32m      5\u001b[0m \u001b[0mmodel_kwargs\u001b[0m \u001b[0;34m=\u001b[0m \u001b[0;34m{\u001b[0m\u001b[0;34m'user_based'\u001b[0m\u001b[0;34m:\u001b[0m \u001b[0;32mTrue\u001b[0m\u001b[0;34m,\u001b[0m \u001b[0;34m'name'\u001b[0m\u001b[0;34m:\u001b[0m \u001b[0;34m'cosine'\u001b[0m\u001b[0;34m}\u001b[0m\u001b[0;34m\u001b[0m\u001b[0;34m\u001b[0m\u001b[0m\n\u001b[0;32m----> 6\u001b[0;31m \u001b[0mknn\u001b[0m\u001b[0;34m,\u001b[0m \u001b[0mmetrics_dict\u001b[0m \u001b[0;34m=\u001b[0m \u001b[0mtrain_and_evalute_model_pipeline\u001b[0m\u001b[0;34m(\u001b[0m\u001b[0mKNNBasic\u001b[0m\u001b[0;34m,\u001b[0m \u001b[0mmodel_kwargs\u001b[0m\u001b[0;34m)\u001b[0m\u001b[0;34m\u001b[0m\u001b[0;34m\u001b[0m\u001b[0m\n\u001b[0m\u001b[1;32m      7\u001b[0m \u001b[0mbenchmark_dict\u001b[0m\u001b[0;34m[\u001b[0m\u001b[0;34m'KNN user based cosine'\u001b[0m\u001b[0;34m]\u001b[0m \u001b[0;34m=\u001b[0m \u001b[0mmetrics_dict\u001b[0m\u001b[0;34m\u001b[0m\u001b[0;34m\u001b[0m\u001b[0m\n\u001b[1;32m      8\u001b[0m \u001b[0;34m\u001b[0m\u001b[0m\n",
      "\u001b[0;32m~/Desktop/EPITA /Rec_Sys/Movie_Lens_Surprise/pipeline_BM.py\u001b[0m in \u001b[0;36mtrain_and_evalute_model_pipeline\u001b[0;34m(model_class, model_kwargs, from_surprise, test_size)\u001b[0m\n\u001b[1;32m     50\u001b[0m                                      \u001b[0mfrom_surprise\u001b[0m\u001b[0;34m:\u001b[0m \u001b[0mbool\u001b[0m \u001b[0;34m=\u001b[0m \u001b[0;32mFalse\u001b[0m\u001b[0;34m,\u001b[0m\u001b[0;34m\u001b[0m\u001b[0;34m\u001b[0m\u001b[0m\n\u001b[1;32m     51\u001b[0m                                      test_size: float = 0.2) -> (AlgoBase, dict):\n\u001b[0;32m---> 52\u001b[0;31m     \u001b[0mdata\u001b[0m \u001b[0;34m=\u001b[0m \u001b[0mget_data\u001b[0m\u001b[0;34m(\u001b[0m\u001b[0mfrom_surprise\u001b[0m\u001b[0;34m)\u001b[0m\u001b[0;34m\u001b[0m\u001b[0;34m\u001b[0m\u001b[0m\n\u001b[0m\u001b[1;32m     53\u001b[0m     \u001b[0mtrain_set\u001b[0m\u001b[0;34m,\u001b[0m \u001b[0mtest_set\u001b[0m \u001b[0;34m=\u001b[0m \u001b[0mtrain_test_split\u001b[0m\u001b[0;34m(\u001b[0m\u001b[0mdata\u001b[0m\u001b[0;34m,\u001b[0m \u001b[0mtest_size\u001b[0m\u001b[0;34m,\u001b[0m \u001b[0mrandom_state\u001b[0m\u001b[0;34m=\u001b[0m\u001b[0;36m42\u001b[0m\u001b[0;34m)\u001b[0m\u001b[0;34m\u001b[0m\u001b[0;34m\u001b[0m\u001b[0m\n\u001b[1;32m     54\u001b[0m     \u001b[0mmodel\u001b[0m \u001b[0;34m=\u001b[0m \u001b[0mget_trained_model\u001b[0m\u001b[0;34m(\u001b[0m\u001b[0mmodel_class\u001b[0m\u001b[0;34m,\u001b[0m \u001b[0mmodel_kwargs\u001b[0m\u001b[0;34m,\u001b[0m \u001b[0mtrain_set\u001b[0m\u001b[0;34m)\u001b[0m\u001b[0;34m\u001b[0m\u001b[0;34m\u001b[0m\u001b[0m\n",
      "\u001b[0;32m~/Desktop/EPITA /Rec_Sys/Movie_Lens_Surprise/pipeline_BM.py\u001b[0m in \u001b[0;36mget_data\u001b[0;34m(from_surprise)\u001b[0m\n\u001b[1;32m     17\u001b[0m \u001b[0;34m\u001b[0m\u001b[0m\n\u001b[1;32m     18\u001b[0m \u001b[0;32mdef\u001b[0m \u001b[0mget_data\u001b[0m\u001b[0;34m(\u001b[0m\u001b[0mfrom_surprise\u001b[0m \u001b[0;34m:\u001b[0m \u001b[0mbool\u001b[0m \u001b[0;34m=\u001b[0m \u001b[0;32mTrue\u001b[0m\u001b[0;34m)\u001b[0m \u001b[0;34m->\u001b[0m \u001b[0mDatasetAutoFolds\u001b[0m\u001b[0;34m:\u001b[0m\u001b[0;34m\u001b[0m\u001b[0;34m\u001b[0m\u001b[0m\n\u001b[0;32m---> 19\u001b[0;31m     \u001b[0mdata\u001b[0m \u001b[0;34m=\u001b[0m \u001b[0mload_ratings_from_surprise\u001b[0m\u001b[0;34m(\u001b[0m\u001b[0;34m)\u001b[0m \u001b[0;32mif\u001b[0m \u001b[0mfrom_surprise\u001b[0m \u001b[0;32melse\u001b[0m \u001b[0mload_ratings_from_file\u001b[0m\u001b[0;34m(\u001b[0m\u001b[0;34m)\u001b[0m\u001b[0;34m\u001b[0m\u001b[0;34m\u001b[0m\u001b[0m\n\u001b[0m\u001b[1;32m     20\u001b[0m     \u001b[0;32mreturn\u001b[0m \u001b[0mdata\u001b[0m\u001b[0;34m\u001b[0m\u001b[0;34m\u001b[0m\u001b[0m\n\u001b[1;32m     21\u001b[0m \u001b[0;34m\u001b[0m\u001b[0m\n",
      "\u001b[0;31mTypeError\u001b[0m: load_ratings_from_file() missing 1 required positional argument: 'ratings_filepath'"
     ]
    }
   ],
   "source": [
    "from surprise.prediction_algorithms.knns import KNNBasic\n",
    "\n",
    "benchmark_dict = {}\n",
    "\n",
    "model_kwargs = {'user_based': True, 'name': 'cosine'}\n",
    "knn, metrics_dict = train_and_evalute_model_pipeline(KNNBasic, model_kwargs)\n",
    "benchmark_dict['KNN user based cosine'] = metrics_dict\n",
    "\n",
    "model_kwargs = {'user_based': True, 'name': 'pearson'}\n",
    "knn, metrics_dict = train_and_evalute_model_pipeline(KNNBasic, model_kwargs)\n",
    "benchmark_dict['KNN user based pearson'] = metrics_dict\n",
    "\n",
    "model_kwargs = {'user_based': False, 'name': 'cosine'}\n",
    "knn, metrics_dict = train_and_evalute_model_pipeline(KNNBasic, model_kwargs)\n",
    "benchmark_dict['KNN item based cosine'] = metrics_dict\n",
    "\n",
    "model_kwargs = {'user_based': False, 'name': 'pearson'}\n",
    "knn, metrics_dict = train_and_evalute_model_pipeline(KNNBasic, model_kwargs)\n",
    "benchmark_dict['KNN item based pearson'] = metrics_dict\n",
    "\n",
    "\n",
    "benchmark_dict"
   ]
  },
  {
   "cell_type": "markdown",
   "metadata": {},
   "source": [
    "#### SVD "
   ]
  },
  {
   "cell_type": "code",
   "execution_count": 41,
   "metadata": {},
   "outputs": [
    {
     "ename": "TypeError",
     "evalue": "load_ratings_from_file() missing 1 required positional argument: 'ratings_filepath'",
     "output_type": "error",
     "traceback": [
      "\u001b[0;31m---------------------------------------------------------------------------\u001b[0m",
      "\u001b[0;31mTypeError\u001b[0m                                 Traceback (most recent call last)",
      "\u001b[0;32m<ipython-input-41-20e8e7a78f43>\u001b[0m in \u001b[0;36m<module>\u001b[0;34m\u001b[0m\n\u001b[1;32m      3\u001b[0m \u001b[0mbenchmark_dict\u001b[0m \u001b[0;34m=\u001b[0m \u001b[0;34m{\u001b[0m\u001b[0;34m}\u001b[0m\u001b[0;34m\u001b[0m\u001b[0;34m\u001b[0m\u001b[0m\n\u001b[1;32m      4\u001b[0m \u001b[0;34m\u001b[0m\u001b[0m\n\u001b[0;32m----> 5\u001b[0;31m \u001b[0mknn\u001b[0m\u001b[0;34m,\u001b[0m \u001b[0mmetrics_dict\u001b[0m \u001b[0;34m=\u001b[0m \u001b[0mtrain_and_evalute_model_pipeline\u001b[0m\u001b[0;34m(\u001b[0m\u001b[0mSVD\u001b[0m\u001b[0;34m)\u001b[0m\u001b[0;34m\u001b[0m\u001b[0;34m\u001b[0m\u001b[0m\n\u001b[0m\u001b[1;32m      6\u001b[0m \u001b[0mbenchmark_dict\u001b[0m\u001b[0;34m[\u001b[0m\u001b[0;34m'KNN user based cosine'\u001b[0m\u001b[0;34m]\u001b[0m \u001b[0;34m=\u001b[0m \u001b[0mmetrics_dict\u001b[0m\u001b[0;34m\u001b[0m\u001b[0;34m\u001b[0m\u001b[0m\n",
      "\u001b[0;32m~/Desktop/EPITA /Rec_Sys/Movie_Lens_Surprise/pipeline_BM.py\u001b[0m in \u001b[0;36mtrain_and_evalute_model_pipeline\u001b[0;34m(model_class, model_kwargs, from_surprise, test_size)\u001b[0m\n\u001b[1;32m     50\u001b[0m                                      \u001b[0mfrom_surprise\u001b[0m\u001b[0;34m:\u001b[0m \u001b[0mbool\u001b[0m \u001b[0;34m=\u001b[0m \u001b[0;32mFalse\u001b[0m\u001b[0;34m,\u001b[0m\u001b[0;34m\u001b[0m\u001b[0;34m\u001b[0m\u001b[0m\n\u001b[1;32m     51\u001b[0m                                      test_size: float = 0.2) -> (AlgoBase, dict):\n\u001b[0;32m---> 52\u001b[0;31m     \u001b[0mdata\u001b[0m \u001b[0;34m=\u001b[0m \u001b[0mget_data\u001b[0m\u001b[0;34m(\u001b[0m\u001b[0mfrom_surprise\u001b[0m\u001b[0;34m)\u001b[0m\u001b[0;34m\u001b[0m\u001b[0;34m\u001b[0m\u001b[0m\n\u001b[0m\u001b[1;32m     53\u001b[0m     \u001b[0mtrain_set\u001b[0m\u001b[0;34m,\u001b[0m \u001b[0mtest_set\u001b[0m \u001b[0;34m=\u001b[0m \u001b[0mtrain_test_split\u001b[0m\u001b[0;34m(\u001b[0m\u001b[0mdata\u001b[0m\u001b[0;34m,\u001b[0m \u001b[0mtest_size\u001b[0m\u001b[0;34m,\u001b[0m \u001b[0mrandom_state\u001b[0m\u001b[0;34m=\u001b[0m\u001b[0;36m42\u001b[0m\u001b[0;34m)\u001b[0m\u001b[0;34m\u001b[0m\u001b[0;34m\u001b[0m\u001b[0m\n\u001b[1;32m     54\u001b[0m     \u001b[0mmodel\u001b[0m \u001b[0;34m=\u001b[0m \u001b[0mget_trained_model\u001b[0m\u001b[0;34m(\u001b[0m\u001b[0mmodel_class\u001b[0m\u001b[0;34m,\u001b[0m \u001b[0mmodel_kwargs\u001b[0m\u001b[0;34m,\u001b[0m \u001b[0mtrain_set\u001b[0m\u001b[0;34m)\u001b[0m\u001b[0;34m\u001b[0m\u001b[0;34m\u001b[0m\u001b[0m\n",
      "\u001b[0;32m~/Desktop/EPITA /Rec_Sys/Movie_Lens_Surprise/pipeline_BM.py\u001b[0m in \u001b[0;36mget_data\u001b[0;34m(from_surprise)\u001b[0m\n\u001b[1;32m     17\u001b[0m \u001b[0;34m\u001b[0m\u001b[0m\n\u001b[1;32m     18\u001b[0m \u001b[0;32mdef\u001b[0m \u001b[0mget_data\u001b[0m\u001b[0;34m(\u001b[0m\u001b[0mfrom_surprise\u001b[0m \u001b[0;34m:\u001b[0m \u001b[0mbool\u001b[0m \u001b[0;34m=\u001b[0m \u001b[0;32mTrue\u001b[0m\u001b[0;34m)\u001b[0m \u001b[0;34m->\u001b[0m \u001b[0mDatasetAutoFolds\u001b[0m\u001b[0;34m:\u001b[0m\u001b[0;34m\u001b[0m\u001b[0;34m\u001b[0m\u001b[0m\n\u001b[0;32m---> 19\u001b[0;31m     \u001b[0mdata\u001b[0m \u001b[0;34m=\u001b[0m \u001b[0mload_ratings_from_surprise\u001b[0m\u001b[0;34m(\u001b[0m\u001b[0;34m)\u001b[0m \u001b[0;32mif\u001b[0m \u001b[0mfrom_surprise\u001b[0m \u001b[0;32melse\u001b[0m \u001b[0mload_ratings_from_file\u001b[0m\u001b[0;34m(\u001b[0m\u001b[0;34m)\u001b[0m\u001b[0;34m\u001b[0m\u001b[0;34m\u001b[0m\u001b[0m\n\u001b[0m\u001b[1;32m     20\u001b[0m     \u001b[0;32mreturn\u001b[0m \u001b[0mdata\u001b[0m\u001b[0;34m\u001b[0m\u001b[0;34m\u001b[0m\u001b[0m\n\u001b[1;32m     21\u001b[0m \u001b[0;34m\u001b[0m\u001b[0m\n",
      "\u001b[0;31mTypeError\u001b[0m: load_ratings_from_file() missing 1 required positional argument: 'ratings_filepath'"
     ]
    }
   ],
   "source": [
    "from surprise.prediction_algorithms.matrix_factorization import SVD\n",
    "\n",
    "benchmark_dict = {}\n",
    "\n",
    "knn, metrics_dict = train_and_evalute_model_pipeline(SVD)\n",
    "benchmark_dict['KNN user based cosine'] = metrics_dict"
   ]
  },
  {
   "cell_type": "markdown",
   "metadata": {},
   "source": [
    "#### SVDpp"
   ]
  },
  {
   "cell_type": "code",
   "execution_count": null,
   "metadata": {},
   "outputs": [],
   "source": [
    "from surprise.prediction_algorithms.matrix_factorization import SVDpp\n",
    "\n",
    "benchmark_dict = {}\n",
    "\n",
    "knn, metrics_dict = train_and_evalute_model_pipeline(SVD)\n",
    "benchmark_dict['KNN user based cosine'] = metrics_dict"
   ]
  },
  {
   "cell_type": "markdown",
   "metadata": {},
   "source": [
    "#### NMF"
   ]
  },
  {
   "cell_type": "code",
   "execution_count": 38,
   "metadata": {},
   "outputs": [
    {
     "ename": "TypeError",
     "evalue": "load_ratings_from_file() missing 1 required positional argument: 'ratings_filepath'",
     "output_type": "error",
     "traceback": [
      "\u001b[0;31m---------------------------------------------------------------------------\u001b[0m",
      "\u001b[0;31mTypeError\u001b[0m                                 Traceback (most recent call last)",
      "\u001b[0;32m<ipython-input-38-867e15b01c4b>\u001b[0m in \u001b[0;36m<module>\u001b[0;34m\u001b[0m\n\u001b[1;32m      3\u001b[0m \u001b[0mbenchmark_dict\u001b[0m \u001b[0;34m=\u001b[0m \u001b[0;34m{\u001b[0m\u001b[0;34m}\u001b[0m\u001b[0;34m\u001b[0m\u001b[0;34m\u001b[0m\u001b[0m\n\u001b[1;32m      4\u001b[0m \u001b[0;34m\u001b[0m\u001b[0m\n\u001b[0;32m----> 5\u001b[0;31m \u001b[0mknn\u001b[0m\u001b[0;34m,\u001b[0m \u001b[0mmetrics_dict\u001b[0m \u001b[0;34m=\u001b[0m \u001b[0mtrain_and_evalute_model_pipeline\u001b[0m\u001b[0;34m(\u001b[0m\u001b[0mNMF\u001b[0m\u001b[0;34m)\u001b[0m\u001b[0;34m\u001b[0m\u001b[0;34m\u001b[0m\u001b[0m\n\u001b[0m\u001b[1;32m      6\u001b[0m \u001b[0mbenchmark_dict\u001b[0m\u001b[0;34m[\u001b[0m\u001b[0;34m'NMF'\u001b[0m\u001b[0;34m]\u001b[0m \u001b[0;34m=\u001b[0m \u001b[0mmetrics_dict\u001b[0m\u001b[0;34m\u001b[0m\u001b[0;34m\u001b[0m\u001b[0m\n",
      "\u001b[0;32m~/Desktop/EPITA /Rec_Sys/Movie_Lens_Surprise/pipeline_BM.py\u001b[0m in \u001b[0;36mtrain_and_evalute_model_pipeline\u001b[0;34m(model_class, model_kwargs, from_surprise, test_size)\u001b[0m\n\u001b[1;32m     50\u001b[0m                                      \u001b[0mfrom_surprise\u001b[0m\u001b[0;34m:\u001b[0m \u001b[0mbool\u001b[0m \u001b[0;34m=\u001b[0m \u001b[0;32mFalse\u001b[0m\u001b[0;34m,\u001b[0m\u001b[0;34m\u001b[0m\u001b[0;34m\u001b[0m\u001b[0m\n\u001b[1;32m     51\u001b[0m                                      test_size: float = 0.2) -> (AlgoBase, dict):\n\u001b[0;32m---> 52\u001b[0;31m     \u001b[0mdata\u001b[0m \u001b[0;34m=\u001b[0m \u001b[0mget_data\u001b[0m\u001b[0;34m(\u001b[0m\u001b[0mfrom_surprise\u001b[0m\u001b[0;34m)\u001b[0m\u001b[0;34m\u001b[0m\u001b[0;34m\u001b[0m\u001b[0m\n\u001b[0m\u001b[1;32m     53\u001b[0m     \u001b[0mtrain_set\u001b[0m\u001b[0;34m,\u001b[0m \u001b[0mtest_set\u001b[0m \u001b[0;34m=\u001b[0m \u001b[0mtrain_test_split\u001b[0m\u001b[0;34m(\u001b[0m\u001b[0mdata\u001b[0m\u001b[0;34m,\u001b[0m \u001b[0mtest_size\u001b[0m\u001b[0;34m,\u001b[0m \u001b[0mrandom_state\u001b[0m\u001b[0;34m=\u001b[0m\u001b[0;36m42\u001b[0m\u001b[0;34m)\u001b[0m\u001b[0;34m\u001b[0m\u001b[0;34m\u001b[0m\u001b[0m\n\u001b[1;32m     54\u001b[0m     \u001b[0mmodel\u001b[0m \u001b[0;34m=\u001b[0m \u001b[0mget_trained_model\u001b[0m\u001b[0;34m(\u001b[0m\u001b[0mmodel_class\u001b[0m\u001b[0;34m,\u001b[0m \u001b[0mmodel_kwargs\u001b[0m\u001b[0;34m,\u001b[0m \u001b[0mtrain_set\u001b[0m\u001b[0;34m)\u001b[0m\u001b[0;34m\u001b[0m\u001b[0;34m\u001b[0m\u001b[0m\n",
      "\u001b[0;32m~/Desktop/EPITA /Rec_Sys/Movie_Lens_Surprise/pipeline_BM.py\u001b[0m in \u001b[0;36mget_data\u001b[0;34m(from_surprise)\u001b[0m\n\u001b[1;32m     17\u001b[0m \u001b[0;34m\u001b[0m\u001b[0m\n\u001b[1;32m     18\u001b[0m \u001b[0;32mdef\u001b[0m \u001b[0mget_data\u001b[0m\u001b[0;34m(\u001b[0m\u001b[0mfrom_surprise\u001b[0m \u001b[0;34m:\u001b[0m \u001b[0mbool\u001b[0m \u001b[0;34m=\u001b[0m \u001b[0;32mTrue\u001b[0m\u001b[0;34m)\u001b[0m \u001b[0;34m->\u001b[0m \u001b[0mDatasetAutoFolds\u001b[0m\u001b[0;34m:\u001b[0m\u001b[0;34m\u001b[0m\u001b[0;34m\u001b[0m\u001b[0m\n\u001b[0;32m---> 19\u001b[0;31m     \u001b[0mdata\u001b[0m \u001b[0;34m=\u001b[0m \u001b[0mload_ratings_from_surprise\u001b[0m\u001b[0;34m(\u001b[0m\u001b[0;34m)\u001b[0m \u001b[0;32mif\u001b[0m \u001b[0mfrom_surprise\u001b[0m \u001b[0;32melse\u001b[0m \u001b[0mload_ratings_from_file\u001b[0m\u001b[0;34m(\u001b[0m\u001b[0;34m)\u001b[0m\u001b[0;34m\u001b[0m\u001b[0;34m\u001b[0m\u001b[0m\n\u001b[0m\u001b[1;32m     20\u001b[0m     \u001b[0;32mreturn\u001b[0m \u001b[0mdata\u001b[0m\u001b[0;34m\u001b[0m\u001b[0;34m\u001b[0m\u001b[0m\n\u001b[1;32m     21\u001b[0m \u001b[0;34m\u001b[0m\u001b[0m\n",
      "\u001b[0;31mTypeError\u001b[0m: load_ratings_from_file() missing 1 required positional argument: 'ratings_filepath'"
     ]
    }
   ],
   "source": [
    "from surprise.prediction_algorithms.matrix_factorization import NMF\n",
    "\n",
    "benchmark_dict = {}\n",
    "\n",
    "knn, metrics_dict = train_and_evalute_model_pipeline(NMF)\n",
    "benchmark_dict['NMF'] = metrics_dict"
   ]
  },
  {
   "cell_type": "code",
   "execution_count": null,
   "metadata": {},
   "outputs": [],
   "source": []
  }
 ],
 "metadata": {
  "kernelspec": {
   "display_name": "Python 3",
   "language": "python",
   "name": "python3"
  },
  "language_info": {
   "codemirror_mode": {
    "name": "ipython",
    "version": 3
   },
   "file_extension": ".py",
   "mimetype": "text/x-python",
   "name": "python",
   "nbconvert_exporter": "python",
   "pygments_lexer": "ipython3",
   "version": "3.8.3"
  }
 },
 "nbformat": 4,
 "nbformat_minor": 4
}
